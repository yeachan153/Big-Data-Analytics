{
 "cells": [
  {
   "cell_type": "code",
   "execution_count": 2,
   "metadata": {},
   "outputs": [
    {
     "name": "stderr",
     "output_type": "stream",
     "text": [
      "Warning message:\n",
      "“package ‘ISLR’ was built under R version 3.4.4”"
     ]
    }
   ],
   "source": [
    "library(ISLR)"
   ]
  },
  {
   "cell_type": "markdown",
   "metadata": {},
   "source": [
    "# Logistic Regression\n",
    "\n",
    "Use the glm() function."
   ]
  },
  {
   "cell_type": "code",
   "execution_count": 5,
   "metadata": {},
   "outputs": [],
   "source": [
    "glm1 = glm(Direction ~ Lag1 + Lag2 + Lag3 +\n",
    "                       Lag4 + Lag5 + Volume,\n",
    "                       family = binomial, data = Smarket)"
   ]
  },
  {
   "cell_type": "code",
   "execution_count": 6,
   "metadata": {},
   "outputs": [
    {
     "data": {
      "text/plain": [
       "\n",
       "Call:\n",
       "glm(formula = Direction ~ Lag1 + Lag2 + Lag3 + Lag4 + Lag5 + \n",
       "    Volume, family = binomial, data = Smarket)\n",
       "\n",
       "Deviance Residuals: \n",
       "   Min      1Q  Median      3Q     Max  \n",
       "-1.446  -1.203   1.065   1.145   1.326  \n",
       "\n",
       "Coefficients:\n",
       "             Estimate Std. Error z value Pr(>|z|)\n",
       "(Intercept) -0.126000   0.240736  -0.523    0.601\n",
       "Lag1        -0.073074   0.050167  -1.457    0.145\n",
       "Lag2        -0.042301   0.050086  -0.845    0.398\n",
       "Lag3         0.011085   0.049939   0.222    0.824\n",
       "Lag4         0.009359   0.049974   0.187    0.851\n",
       "Lag5         0.010313   0.049511   0.208    0.835\n",
       "Volume       0.135441   0.158360   0.855    0.392\n",
       "\n",
       "(Dispersion parameter for binomial family taken to be 1)\n",
       "\n",
       "    Null deviance: 1731.2  on 1249  degrees of freedom\n",
       "Residual deviance: 1727.6  on 1243  degrees of freedom\n",
       "AIC: 1741.6\n",
       "\n",
       "Number of Fisher Scoring iterations: 3\n"
      ]
     },
     "metadata": {},
     "output_type": "display_data"
    }
   ],
   "source": [
    "summary(glm1)"
   ]
  },
  {
   "cell_type": "code",
   "execution_count": 8,
   "metadata": {},
   "outputs": [
    {
     "data": {
      "text/html": [
       "<dl class=dl-horizontal>\n",
       "\t<dt>(Intercept)</dt>\n",
       "\t\t<dd>-0.126000256559269</dd>\n",
       "\t<dt>Lag1</dt>\n",
       "\t\t<dd>-0.0730737458900263</dd>\n",
       "\t<dt>Lag2</dt>\n",
       "\t\t<dd>-0.0423013440073083</dd>\n",
       "\t<dt>Lag3</dt>\n",
       "\t\t<dd>0.0110851083796762</dd>\n",
       "\t<dt>Lag4</dt>\n",
       "\t\t<dd>0.0093589383702787</dd>\n",
       "\t<dt>Lag5</dt>\n",
       "\t\t<dd>0.0103130684758178</dd>\n",
       "\t<dt>Volume</dt>\n",
       "\t\t<dd>0.135440658859162</dd>\n",
       "</dl>\n"
      ],
      "text/latex": [
       "\\begin{description*}\n",
       "\\item[(Intercept)] -0.126000256559269\n",
       "\\item[Lag1] -0.0730737458900263\n",
       "\\item[Lag2] -0.0423013440073083\n",
       "\\item[Lag3] 0.0110851083796762\n",
       "\\item[Lag4] 0.0093589383702787\n",
       "\\item[Lag5] 0.0103130684758178\n",
       "\\item[Volume] 0.135440658859162\n",
       "\\end{description*}\n"
      ],
      "text/markdown": [
       "(Intercept)\n",
       ":   -0.126000256559269Lag1\n",
       ":   -0.0730737458900263Lag2\n",
       ":   -0.0423013440073083Lag3\n",
       ":   0.0110851083796762Lag4\n",
       ":   0.0093589383702787Lag5\n",
       ":   0.0103130684758178Volume\n",
       ":   0.135440658859162\n",
       "\n"
      ],
      "text/plain": [
       " (Intercept)         Lag1         Lag2         Lag3         Lag4         Lag5 \n",
       "-0.126000257 -0.073073746 -0.042301344  0.011085108  0.009358938  0.010313068 \n",
       "      Volume \n",
       " 0.135440659 "
      ]
     },
     "metadata": {},
     "output_type": "display_data"
    }
   ],
   "source": [
    "coef(glm1)"
   ]
  },
  {
   "cell_type": "markdown",
   "metadata": {},
   "source": [
    "### Use the predict() function to predict"
   ]
  },
  {
   "cell_type": "code",
   "execution_count": 11,
   "metadata": {},
   "outputs": [],
   "source": [
    "glm_probs = predict(glm1, type = \"response\")"
   ]
  },
  {
   "cell_type": "code",
   "execution_count": 12,
   "metadata": {},
   "outputs": [
    {
     "data": {
      "text/html": [
       "<dl class=dl-horizontal>\n",
       "\t<dt>1</dt>\n",
       "\t\t<dd>0.507084133395401</dd>\n",
       "\t<dt>2</dt>\n",
       "\t\t<dd>0.481467878454591</dd>\n",
       "\t<dt>3</dt>\n",
       "\t\t<dd>0.481138835214201</dd>\n",
       "\t<dt>4</dt>\n",
       "\t\t<dd>0.515222355813022</dd>\n",
       "\t<dt>5</dt>\n",
       "\t\t<dd>0.510781162691538</dd>\n",
       "\t<dt>6</dt>\n",
       "\t\t<dd>0.506956460534911</dd>\n",
       "</dl>\n"
      ],
      "text/latex": [
       "\\begin{description*}\n",
       "\\item[1] 0.507084133395401\n",
       "\\item[2] 0.481467878454591\n",
       "\\item[3] 0.481138835214201\n",
       "\\item[4] 0.515222355813022\n",
       "\\item[5] 0.510781162691538\n",
       "\\item[6] 0.506956460534911\n",
       "\\end{description*}\n"
      ],
      "text/markdown": [
       "1\n",
       ":   0.5070841333954012\n",
       ":   0.4814678784545913\n",
       ":   0.4811388352142014\n",
       ":   0.5152223558130225\n",
       ":   0.5107811626915386\n",
       ":   0.506956460534911\n",
       "\n"
      ],
      "text/plain": [
       "        1         2         3         4         5         6 \n",
       "0.5070841 0.4814679 0.4811388 0.5152224 0.5107812 0.5069565 "
      ]
     },
     "metadata": {},
     "output_type": "display_data"
    }
   ],
   "source": [
    "head(glm_probs)"
   ]
  },
  {
   "cell_type": "markdown",
   "metadata": {},
   "source": [
    "The predictions here return raw probabilities."
   ]
  },
  {
   "cell_type": "markdown",
   "metadata": {},
   "source": [
    "# Hold out sets"
   ]
  },
  {
   "cell_type": "code",
   "execution_count": 14,
   "metadata": {},
   "outputs": [
    {
     "name": "stderr",
     "output_type": "stream",
     "text": [
      "The following objects are masked from Smarket (pos = 3):\n",
      "\n",
      "    Direction, Lag1, Lag2, Lag3, Lag4, Lag5, Today, Volume, Year\n",
      "\n"
     ]
    }
   ],
   "source": [
    "attach(Smarket)\n",
    "\n",
    "train=(Year <2005)\n",
    "Smarket.2005= Smarket[!train ,]\n",
    "Direction.2005= Direction[!train]"
   ]
  },
  {
   "cell_type": "code",
   "execution_count": 19,
   "metadata": {},
   "outputs": [],
   "source": [
    "glm2 = glm(Direction ~ Lag1 + Lag2 + Lag3 + Lag4 + Lag5 + Volume,\n",
    "          data = Smarket, family = binomial, subset = train)"
   ]
  },
  {
   "cell_type": "code",
   "execution_count": 23,
   "metadata": {},
   "outputs": [],
   "source": [
    "glm.probs = predict(glm2, Smarket.2005, type= \"response\")"
   ]
  },
  {
   "cell_type": "markdown",
   "metadata": {},
   "source": [
    "# Linear discriminant analysis"
   ]
  },
  {
   "cell_type": "code",
   "execution_count": 26,
   "metadata": {},
   "outputs": [],
   "source": [
    "library(MASS)"
   ]
  },
  {
   "cell_type": "code",
   "execution_count": 30,
   "metadata": {},
   "outputs": [],
   "source": [
    "lda1 = lda(Direction ~ Lag1 + Lag2,\n",
    "          data = Smarket, subset = train)"
   ]
  },
  {
   "cell_type": "code",
   "execution_count": 32,
   "metadata": {},
   "outputs": [
    {
     "data": {
      "image/png": "[encoded data removed]",
      "text/plain": [
       "plot without title"
      ]
     },
     "metadata": {},
     "output_type": "display_data"
    }
   ],
   "source": [
    "plot(lda1)"
   ]
  },
  {
   "cell_type": "code",
   "execution_count": 36,
   "metadata": {},
   "outputs": [],
   "source": [
    "lda.pred = predict(lda1, Smarket.2005)"
   ]
  },
  {
   "cell_type": "code",
   "execution_count": 41,
   "metadata": {},
   "outputs": [
    {
     "data": {
      "text/html": [
       "0"
      ],
      "text/latex": [
       "0"
      ],
      "text/markdown": [
       "0"
      ],
      "text/plain": [
       "[1] 0"
      ]
     },
     "metadata": {},
     "output_type": "display_data"
    }
   ],
   "source": [
    "sum(lda.pred$posterior[,1] >= .6)"
   ]
  },
  {
   "cell_type": "code",
   "execution_count": 40,
   "metadata": {},
   "outputs": [
    {
     "data": {
      "text/html": [
       "252"
      ],
      "text/latex": [
       "252"
      ],
      "text/markdown": [
       "252"
      ],
      "text/plain": [
       "[1] 252"
      ]
     },
     "metadata": {},
     "output_type": "display_data"
    }
   ],
   "source": [
    "sum(lda.pred$posterior[,1] < .6)"
   ]
  },
  {
   "cell_type": "markdown",
   "metadata": {},
   "source": [
    "# Quadratic discriminant analysis"
   ]
  },
  {
   "cell_type": "code",
   "execution_count": 42,
   "metadata": {},
   "outputs": [],
   "source": [
    "qda1 = qda(Direction ~ Lag1 + Lag2, data = Smarket, subset = train)"
   ]
  },
  {
   "cell_type": "code",
   "execution_count": 43,
   "metadata": {},
   "outputs": [
    {
     "data": {
      "text/plain": [
       "Call:\n",
       "qda(Direction ~ Lag1 + Lag2, data = Smarket, subset = train)\n",
       "\n",
       "Prior probabilities of groups:\n",
       "    Down       Up \n",
       "0.491984 0.508016 \n",
       "\n",
       "Group means:\n",
       "            Lag1        Lag2\n",
       "Down  0.04279022  0.03389409\n",
       "Up   -0.03954635 -0.03132544"
      ]
     },
     "metadata": {},
     "output_type": "display_data"
    }
   ],
   "source": [
    "qda1"
   ]
  },
  {
   "cell_type": "markdown",
   "metadata": {},
   "source": [
    "# KNN"
   ]
  },
  {
   "cell_type": "code",
   "execution_count": 44,
   "metadata": {},
   "outputs": [],
   "source": [
    "library(class)\n",
    "\n",
    "train.X=cbind(Lag1 ,Lag2)[train ,]\n",
    "test.X=cbind(Lag1 ,Lag2)[!train ,]\n",
    "train.Direction =Direction [train]"
   ]
  },
  {
   "cell_type": "code",
   "execution_count": 45,
   "metadata": {},
   "outputs": [],
   "source": [
    "knn.pred=knn(train.X,test.X,train.Direction ,k=1)"
   ]
  },
  {
   "cell_type": "code",
   "execution_count": 47,
   "metadata": {},
   "outputs": [
    {
     "data": {
      "text/plain": [
       "        Direction.2005\n",
       "knn.pred Down Up\n",
       "    Down   43 58\n",
       "    Up     68 83"
      ]
     },
     "metadata": {},
     "output_type": "display_data"
    }
   ],
   "source": [
    "table(knn.pred ,Direction.2005)"
   ]
  }
 ],
 "metadata": {
  "kernelspec": {
   "display_name": "R",
   "language": "R",
   "name": "ir"
  },
  "language_info": {
   "codemirror_mode": "r",
   "file_extension": ".r",
   "mimetype": "text/x-r-source",
   "name": "R",
   "pygments_lexer": "r",
   "version": "3.4.3"
  }
 },
 "nbformat": 4,
 "nbformat_minor": 2
}
